{
  "nbformat": 4,
  "nbformat_minor": 0,
  "metadata": {
    "colab": {
      "name": "Weather API.ipynb",
      "provenance": [],
      "collapsed_sections": []
    },
    "kernelspec": {
      "name": "python3",
      "display_name": "Python 3"
    },
    "language_info": {
      "name": "python"
    }
  },
  "cells": [
    {
      "cell_type": "code",
      "metadata": {
        "colab": {
          "base_uri": "https://localhost:8080/"
        },
        "id": "K9Ekor640w3K",
        "outputId": "0471e236-7a3b-45e5-d26e-acb5e8c66cc0"
      },
      "source": [
        "\"\"\"LetsupgradeWeatherapipython project\"\"\"\n",
        "\n",
        "#Weather Api mpodule Project\n",
        "\n",
        "import requests\n",
        "# paste your api key here\n",
        "api_key = \"4256b3de394a56a86ee35e43af6f5c2e\"\n",
        "# getting city name from user\n",
        "city = input(\"Enter city name: \")\n",
        "\n",
        "data = requests.get(\n",
        "    f\"https://api.openweathermap.org/data/2.5/weather?q={city}&units=metric&APPID={api_key}\"\n",
        ")\n",
        "# uncomment the following line and run it so you can get the data in json format\n",
        "# print(data.json())\n",
        "# getting the data\n",
        "print(f\"Location: {data.json().get('name')}, {data.json().get('sys').get('country')}\")\n",
        "print(f\"Temperature: {data.json().get('main')['temp']}°C\")\n",
        "print(f\"Weather: {data.json().get('weather')[0].get('main')}\")\n",
        "print(\n",
        "    f\"Min/Max Temperature: {data.json().get('main')['temp_min']}°C/{data.json().get('main')['temp_max']}°C\"\n",
        ")\n",
        "print(f\"Humidity: {data.json().get('main')['humidity']}%\")\n",
        "print(f\"Wind: {data.json().get('wind')['speed']} km/h\")"
      ],
      "execution_count": 1,
      "outputs": [
        {
          "output_type": "stream",
          "text": [
            "Enter city name: mumbai\n",
            "Location: Mumbai, IN\n",
            "Temperature: 27.99°C\n",
            "Weather: Drizzle\n",
            "Min/Max Temperature: 27.99°C/27.99°C\n",
            "Humidity: 94%\n",
            "Wind: 0 km/h\n"
          ],
          "name": "stdout"
        }
      ]
    }
  ]
}